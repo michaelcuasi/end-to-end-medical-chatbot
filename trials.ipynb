{
 "cells": [
  {
   "cell_type": "code",
   "execution_count": 7,
   "id": "2eca0d7c",
   "metadata": {},
   "outputs": [],
   "source": [
    "from langchain import PromptTemplate\n",
    "from langchain.chains import RetrievalQA\n",
    "from langchain.embeddings import HuggingFaceEmbeddings\n",
    "from langchain.vectorstores import Pinecone\n",
    "from langchain.document_loaders import PyPDFDirectoryLoader\n",
    "from langchain.text_splitter import RecursiveCharacterTextSplitter\n",
    "from langchain.prompts import PromptTemplate\n",
    "from langchain.llms import CTransformers\n",
    "from langchain.embeddings import OpenAIEmbeddings\n",
    "from pinecone import Pinecone, ServerlessSpec\n",
    "from langchain_community.vectorstores import Pinecone as Pine\n",
    "import os"
   ]
  },
  {
   "cell_type": "code",
   "execution_count": 8,
   "id": "7c495e0a",
   "metadata": {},
   "outputs": [],
   "source": [
    "os.environ[\"OPENAI_API_KEY\"] = os.getenv(\"OPENAI_API_KEY\") # or set via environment outside script\n",
    "PINECONE_API_KEY = os.getenv(\"PINECONE_API_KEY\")\n",
    "PINECONE_API_ENV = \"gcp-starter\"\n",
    "index_name = \"medical-chatbot\""
   ]
  },
  {
   "cell_type": "code",
   "execution_count": 15,
   "id": "319f1e77",
   "metadata": {},
   "outputs": [],
   "source": [
    "# 2. Load PDF documents\n",
    "pdf_dir = \"./data\"\n",
    "loader = PyPDFDirectoryLoader(pdf_dir)\n",
    "documents = loader.load()"
   ]
  },
  {
   "cell_type": "code",
   "execution_count": 16,
   "id": "2e43216b",
   "metadata": {},
   "outputs": [],
   "source": [
    "# 3. Split documents into text chunks\n",
    "splitter = RecursiveCharacterTextSplitter(\n",
    "    chunk_size=500,  # Experiment as needed\n",
    "    chunk_overlap=20\n",
    ")\n",
    "text_chunks = splitter.split_documents(documents)"
   ]
  },
  {
   "cell_type": "code",
   "execution_count": 17,
   "id": "061c0be7",
   "metadata": {},
   "outputs": [],
   "source": [
    "texts = [chunk.page_content for chunk in text_chunks]"
   ]
  },
  {
   "cell_type": "code",
   "execution_count": 10,
   "id": "d8257e61",
   "metadata": {},
   "outputs": [],
   "source": [
    "def download_hf_embedding():\n",
    "  embeddings = HuggingFaceEmbeddings(\n",
    "    model_name=\"sentence-transformers/all-MiniLM-L6-v2\"\n",
    "  )\n",
    "  return embeddings"
   ]
  },
  {
   "cell_type": "code",
   "execution_count": 11,
   "id": "cf5f68d8",
   "metadata": {},
   "outputs": [
    {
     "name": "stderr",
     "output_type": "stream",
     "text": [
      "C:\\Users\\Cuasi2020-GAP\\AppData\\Local\\Temp\\ipykernel_13764\\1737486242.py:2: LangChainDeprecationWarning: The class `HuggingFaceEmbeddings` was deprecated in LangChain 0.2.2 and will be removed in 1.0. An updated version of the class exists in the langchain-huggingface package and should be used instead. To use it run `pip install -U langchain-huggingface` and import as `from langchain_huggingface import HuggingFaceEmbeddings`.\n",
      "  embeddings = HuggingFaceEmbeddings(\n"
     ]
    }
   ],
   "source": [
    "embeddings = download_hf_embedding()"
   ]
  },
  {
   "cell_type": "code",
   "execution_count": null,
   "id": "ee1d304a",
   "metadata": {},
   "outputs": [
    {
     "name": "stdout",
     "output_type": "stream",
     "text": [
      "Length 384\n"
     ]
    }
   ],
   "source": [
    "query_result = embeddings.embed_query()\n",
    "print(\"Length\", len(query_result))"
   ]
  },
  {
   "cell_type": "code",
   "execution_count": 21,
   "id": "6a539cab",
   "metadata": {},
   "outputs": [],
   "source": [
    "pc = Pinecone(api_key=PINECONE_API_KEY)\n",
    "\n",
    "if index_name not in [index.name for index in pc.list_indexes()]:\n",
    "    # Create a serverless index; metric and dimension must be provided\n",
    "    pc.create_index(\n",
    "        index_name,\n",
    "        dimension=384,  # Must match your vector dimension!\n",
    "        metric=\"cosine\",\n",
    "        spec=ServerlessSpec(cloud=\"aws\", region=\"us-east-1\")\n",
    "    )\n",
    "# Connect to index\n",
    "index = pc.Index(index_name)\n",
    "\n",
    "# 6. Prepare data and upsert to Pinecone\n",
    "    # Step 1: Generate embeddings for all your texts\n",
    "embedding_vectors = embeddings.embed_documents(texts)\n",
    "\n",
    "vectors = [\n",
    "    (f\"doc-{i}\", embedding_vectors[i], {\"text\": texts[i]})\n",
    "    for i in range(len(texts))\n",
    "]"
   ]
  },
  {
   "cell_type": "code",
   "execution_count": 23,
   "id": "8bdd64f6",
   "metadata": {},
   "outputs": [
    {
     "name": "stdout",
     "output_type": "stream",
     "text": [
      "✅ PDF processing and upsert complete.\n"
     ]
    }
   ],
   "source": [
    "batch_size = 100  # start small, can increase as long as under 4MB\n",
    "for i in range(0, len(vectors), batch_size):\n",
    "    batch = vectors[i:i+batch_size]\n",
    "    index.upsert(vectors=batch)\n",
    "    \n",
    "print(\"✅ PDF processing and upsert complete.\")"
   ]
  },
  {
   "cell_type": "code",
   "execution_count": 37,
   "id": "aae75820",
   "metadata": {},
   "outputs": [],
   "source": [
    "docsearch = Pine(\n",
    "    index,          # your pinecone.Index object\n",
    "    embeddings,          # your embedding function instance\n",
    "    \"text\"               # the name of the metadata field used for text\n",
    ")"
   ]
  },
  {
   "cell_type": "code",
   "execution_count": null,
   "id": "e2162232",
   "metadata": {},
   "outputs": [
    {
     "name": "stdout",
     "output_type": "stream",
     "text": [
      "Antipruritic drugs see Anti-itch drugs\n",
      "Antipsychotic drugs\n",
      "Definition\n",
      "Antipsychotic drugs are a class of medicines used to\n",
      "treat psychosis and other mental and emotional condi-\n",
      "tions.\n",
      "Purpose\n",
      "Psychosis is defined as “a serious mental disorder\n",
      "(as schizophrenia ) characterized by defective or lost\n",
      "contact with reality often with hallucinations or delu-\n",
      "sions.” Psychosis is an end-stage condition arising from a\n",
      "variety of possible causes. Anti-psychotic drugs control\n",
      "than in adults, which may lead to a misdiagnosis of schiz-\n",
      "ophrenia. Children and adolescents also tend toward irri-\n",
      "tability and aggressiveness instead of elation. Further,\n",
      "symptoms tend to be chronic, or ongoing, rather than\n",
      "acute, or episodic. Bipolar children are easily distracted,\n",
      "impulsive, and hyperactive, which can lead to a misdiag-\n",
      "nosis of attention deficit hyperactivity disorder (ADHD).\n",
      "Furthermore, their aggression often leads to violence,\n",
      "caused by constriction of the blood vessels in the\n",
      "extremities, and occurs when the hands and feet\n",
      "are exposed to cold weather. Emotional stress can\n",
      "also trigger the cold symptoms.\n",
      "Schizophrenia—Schizophrenia is a psychotic dis-\n",
      "order that causes distortions in perception (delu-\n",
      "sions and hallucinations), inappropriate moods\n",
      "and behaviors, and disorganized or incoherent\n",
      "speech and behavior.\n",
      "Temporomandibular joint disorder —Inflamma-\n",
      "tion, irritation, and pain of the jaw caused by\n",
      "Onchocerciasis—Parasitic infestation caused by fil-\n",
      "amentous worms of the genus Onchocerca, espe-\n",
      "cially O. volvulus, that is found in tropical America\n",
      "and is transmitted by several types of blackflies.\n",
      "Protozoan—Any unicellular or multicellular organ-\n",
      "ism containing nuclei and organelles (eukaryotic) of\n",
      "the subkingdom Protozoa.\n",
      "Roundworm —Any round-bodied unsegmented\n",
      "worm as distinguished from a flatworm. Also called\n",
      "a nematode, they look similar to the common earth-\n",
      "worm.\n",
      "drug induced involuntary movements, than are the older\n",
      "drugs. The atypical antipsychotic drugs may also be\n",
      "effective in some cases that are resistant to older drugs.\n",
      "The drugs in this group are clozapine (Clozaril),\n",
      "loxapine (Loxitane), olanzapine (Zyprexa), and quetiap-\n",
      "ine (Seroquel).\n",
      "Purpose\n",
      "The antipsychotic drugs are used to treat severe\n",
      "emotional disorders. Although there may be different\n",
      "names for these disorders, depending on severity and\n"
     ]
    }
   ],
   "source": [
    "query = \"Can you explain lupus\"  # must be str\n",
    "docs = docsearch.similarity_search(query, k=5)\n",
    "\n",
    "for doc in docs:\n",
    "  print(doc.page_content)"
   ]
  },
  {
   "cell_type": "code",
   "execution_count": 44,
   "id": "493fef16",
   "metadata": {},
   "outputs": [],
   "source": [
    "prompt_template=\"\"\"\n",
    "Use the following pieces of information to answer the user's question.\n",
    "If you don't know the answer, just say that you don't know, don't try to make up an answer.\n",
    "\n",
    "Context: {context}\n",
    "Question: {question}\n",
    "\n",
    "Only return the helpful answer below and nothing else.\n",
    "Helpful answer:\n",
    "\"\"\""
   ]
  },
  {
   "cell_type": "code",
   "execution_count": 45,
   "id": "646f8715",
   "metadata": {},
   "outputs": [],
   "source": [
    "PROMPT=PromptTemplate(template=prompt_template, input_variables=[\"context\", \"question\"])\n",
    "chain_type_kwargs={\"prompt\": PROMPT}"
   ]
  },
  {
   "cell_type": "code",
   "execution_count": 46,
   "id": "c012db0f",
   "metadata": {},
   "outputs": [],
   "source": [
    "llm=CTransformers(model=\"model/llama-2-7b-chat.ggmlv3.q4_0.bin\",\n",
    "                  model_type=\"llama\",\n",
    "                  config={'max_new_tokens':512,\n",
    "                          'temperature':0.8})"
   ]
  },
  {
   "cell_type": "code",
   "execution_count": null,
   "id": "79320332",
   "metadata": {},
   "outputs": [],
   "source": [
    "qa=RetrievalQA.from_chain_type(\n",
    "    llm=llm, \n",
    "    chain_type=\"stuff\", \n",
    "    retriever=docsearch.as_retriever(search_kwargs={'k': 2}),\n",
    "    return_source_documents=True, \n",
    "    chain_type_kwargs=chain_type_kwargs)"
   ]
  },
  {
   "cell_type": "code",
   "execution_count": null,
   "id": "abd78785",
   "metadata": {},
   "outputs": [],
   "source": [
    "while True:\n",
    "    user_input=input(f\"Input Prompt:\")\n",
    "    result=qa({\"query\": user_input})\n",
    "    print(\"Response : \", result[\"result\"])"
   ]
  }
 ],
 "metadata": {
  "kernelspec": {
   "display_name": "mchatbot",
   "language": "python",
   "name": "python3"
  },
  "language_info": {
   "codemirror_mode": {
    "name": "ipython",
    "version": 3
   },
   "file_extension": ".py",
   "mimetype": "text/x-python",
   "name": "python",
   "nbconvert_exporter": "python",
   "pygments_lexer": "ipython3",
   "version": "3.8.20"
  }
 },
 "nbformat": 4,
 "nbformat_minor": 5
}
